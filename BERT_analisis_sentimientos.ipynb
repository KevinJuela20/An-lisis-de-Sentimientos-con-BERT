{
 "cells": [
  {
   "cell_type": "markdown",
   "metadata": {
    "colab_type": "text",
    "id": "vd82CFhYntkf"
   },
   "source": [
    "# Análisis de sentimientos con BERT\n",
    "\n",
    "[Hugging Face](https://huggingface.co/)\n",
    "\n",
    "![BERT análisis sentimientos](https://drive.google.com/uc?export=view&id=1UwciEQKNZ4SoXn_c0l31hsyZ-8jLdtVf)"
   ]
  },
  {
   "cell_type": "code",
   "execution_count": 1,
   "metadata": {
    "colab": {
     "base_uri": "https://localhost:8080/",
     "height": 615
    },
    "colab_type": "code",
    "executionInfo": {
     "elapsed": 10257,
     "status": "ok",
     "timestamp": 1595182614474,
     "user": {
      "displayName": "Miguel Sotaquirá",
      "photoUrl": "https://lh3.googleusercontent.com/a-/AOh14Giuk6OGsE84qo69ZTgJj4B328D6GfU4etVY0q9AUg=s64",
      "userId": "08038952820764930757"
     },
     "user_tz": 300
    },
    "id": "_vbubgPZnoBz",
    "outputId": "24d53394-46d5-47c6-c186-a49b15795092"
   },
   "outputs": [
    {
     "name": "stdout",
     "output_type": "stream",
     "text": [
      "Collecting transformers\n",
      "\u001b[?25l  Downloading https://files.pythonhosted.org/packages/27/3c/91ed8f5c4e7ef3227b4119200fc0ed4b4fd965b1f0172021c25701087825/transformers-3.0.2-py3-none-any.whl (769kB)\n",
      "\r\n",
      "\u001b[K     |▍                               | 10kB 21.2MB/s eta 0:00:01\r\n",
      "\u001b[K     |▉                               | 20kB 28.5MB/s eta 0:00:01\r\n",
      "\u001b[K     |█▎                              | 30kB 32.6MB/s eta 0:00:01\r\n",
      "\u001b[K     |█▊                              | 40kB 36.6MB/s eta 0:00:01\r\n",
      "\u001b[K     |██▏                             | 51kB 19.7MB/s eta 0:00:01\r\n",
      "\u001b[K     |██▋                             | 61kB 16.4MB/s eta 0:00:01\r\n",
      "\u001b[K     |███                             | 71kB 15.2MB/s eta 0:00:01\r\n",
      "\u001b[K     |███▍                            | 81kB 14.6MB/s eta 0:00:01\r\n",
      "\u001b[K     |███▉                            | 92kB 14.1MB/s eta 0:00:01\r\n",
      "\u001b[K     |████▎                           | 102kB 14.7MB/s eta 0:00:01\r\n",
      "\u001b[K     |████▊                           | 112kB 14.7MB/s eta 0:00:01\r\n",
      "\u001b[K     |█████▏                          | 122kB 14.7MB/s eta 0:00:01\r\n",
      "\u001b[K     |█████▌                          | 133kB 14.7MB/s eta 0:00:01\r\n",
      "\u001b[K     |██████                          | 143kB 14.7MB/s eta 0:00:01\r\n",
      "\u001b[K     |██████▍                         | 153kB 14.7MB/s eta 0:00:01\r\n",
      "\u001b[K     |██████▉                         | 163kB 14.7MB/s eta 0:00:01\r\n",
      "\u001b[K     |███████▎                        | 174kB 14.7MB/s eta 0:00:01\r\n",
      "\u001b[K     |███████▊                        | 184kB 14.7MB/s eta 0:00:01\r\n",
      "\u001b[K     |████████                        | 194kB 14.7MB/s eta 0:00:01\r\n",
      "\u001b[K     |████████▌                       | 204kB 14.7MB/s eta 0:00:01\r\n",
      "\u001b[K     |█████████                       | 215kB 14.7MB/s eta 0:00:01\r\n",
      "\u001b[K     |█████████▍                      | 225kB 14.7MB/s eta 0:00:01\r\n",
      "\u001b[K     |█████████▉                      | 235kB 14.7MB/s eta 0:00:01\r\n",
      "\u001b[K     |██████████▎                     | 245kB 14.7MB/s eta 0:00:01\r\n",
      "\u001b[K     |██████████▋                     | 256kB 14.7MB/s eta 0:00:01\r\n",
      "\u001b[K     |███████████                     | 266kB 14.7MB/s eta 0:00:01\r\n",
      "\u001b[K     |███████████▌                    | 276kB 14.7MB/s eta 0:00:01\r\n",
      "\u001b[K     |████████████                    | 286kB 14.7MB/s eta 0:00:01\r\n",
      "\u001b[K     |████████████▍                   | 296kB 14.7MB/s eta 0:00:01\r\n",
      "\u001b[K     |████████████▉                   | 307kB 14.7MB/s eta 0:00:01\r\n",
      "\u001b[K     |█████████████▏                  | 317kB 14.7MB/s eta 0:00:01\r\n",
      "\u001b[K     |█████████████▋                  | 327kB 14.7MB/s eta 0:00:01\r\n",
      "\u001b[K     |██████████████                  | 337kB 14.7MB/s eta 0:00:01\r\n",
      "\u001b[K     |██████████████▌                 | 348kB 14.7MB/s eta 0:00:01\r\n",
      "\u001b[K     |███████████████                 | 358kB 14.7MB/s eta 0:00:01\r\n",
      "\u001b[K     |███████████████▍                | 368kB 14.7MB/s eta 0:00:01\r\n",
      "\u001b[K     |███████████████▊                | 378kB 14.7MB/s eta 0:00:01\r\n",
      "\u001b[K     |████████████████▏               | 389kB 14.7MB/s eta 0:00:01\r\n",
      "\u001b[K     |████████████████▋               | 399kB 14.7MB/s eta 0:00:01\r\n",
      "\u001b[K     |█████████████████               | 409kB 14.7MB/s eta 0:00:01\r\n",
      "\u001b[K     |█████████████████▌              | 419kB 14.7MB/s eta 0:00:01\r\n",
      "\u001b[K     |██████████████████              | 430kB 14.7MB/s eta 0:00:01\r\n",
      "\u001b[K     |██████████████████▎             | 440kB 14.7MB/s eta 0:00:01\r\n",
      "\u001b[K     |██████████████████▊             | 450kB 14.7MB/s eta 0:00:01\r\n",
      "\u001b[K     |███████████████████▏            | 460kB 14.7MB/s eta 0:00:01\r\n",
      "\u001b[K     |███████████████████▋            | 471kB 14.7MB/s eta 0:00:01\r\n",
      "\u001b[K     |████████████████████            | 481kB 14.7MB/s eta 0:00:01\r\n",
      "\u001b[K     |████████████████████▌           | 491kB 14.7MB/s eta 0:00:01\r\n",
      "\u001b[K     |████████████████████▉           | 501kB 14.7MB/s eta 0:00:01\r\n",
      "\u001b[K     |█████████████████████▎          | 512kB 14.7MB/s eta 0:00:01\r\n",
      "\u001b[K     |█████████████████████▊          | 522kB 14.7MB/s eta 0:00:01\r\n",
      "\u001b[K     |██████████████████████▏         | 532kB 14.7MB/s eta 0:00:01\r\n",
      "\u001b[K     |██████████████████████▋         | 542kB 14.7MB/s eta 0:00:01\r\n",
      "\u001b[K     |███████████████████████         | 552kB 14.7MB/s eta 0:00:01\r\n",
      "\u001b[K     |███████████████████████▍        | 563kB 14.7MB/s eta 0:00:01\r\n",
      "\u001b[K     |███████████████████████▉        | 573kB 14.7MB/s eta 0:00:01\r\n",
      "\u001b[K     |████████████████████████▎       | 583kB 14.7MB/s eta 0:00:01\r\n",
      "\u001b[K     |████████████████████████▊       | 593kB 14.7MB/s eta 0:00:01\r\n",
      "\u001b[K     |█████████████████████████▏      | 604kB 14.7MB/s eta 0:00:01\r\n",
      "\u001b[K     |█████████████████████████▋      | 614kB 14.7MB/s eta 0:00:01\r\n",
      "\u001b[K     |██████████████████████████      | 624kB 14.7MB/s eta 0:00:01\r\n",
      "\u001b[K     |██████████████████████████▍     | 634kB 14.7MB/s eta 0:00:01\r\n",
      "\u001b[K     |██████████████████████████▉     | 645kB 14.7MB/s eta 0:00:01\r\n",
      "\u001b[K     |███████████████████████████▎    | 655kB 14.7MB/s eta 0:00:01\r\n",
      "\u001b[K     |███████████████████████████▊    | 665kB 14.7MB/s eta 0:00:01\r\n",
      "\u001b[K     |████████████████████████████▏   | 675kB 14.7MB/s eta 0:00:01\r\n",
      "\u001b[K     |████████████████████████████▌   | 686kB 14.7MB/s eta 0:00:01\r\n",
      "\u001b[K     |█████████████████████████████   | 696kB 14.7MB/s eta 0:00:01\r\n",
      "\u001b[K     |█████████████████████████████▍  | 706kB 14.7MB/s eta 0:00:01\r\n",
      "\u001b[K     |█████████████████████████████▉  | 716kB 14.7MB/s eta 0:00:01\r\n",
      "\u001b[K     |██████████████████████████████▎ | 727kB 14.7MB/s eta 0:00:01\r\n",
      "\u001b[K     |██████████████████████████████▊ | 737kB 14.7MB/s eta 0:00:01\r\n",
      "\u001b[K     |███████████████████████████████ | 747kB 14.7MB/s eta 0:00:01\r\n",
      "\u001b[K     |███████████████████████████████▌| 757kB 14.7MB/s eta 0:00:01\r\n",
      "\u001b[K     |████████████████████████████████| 768kB 14.7MB/s eta 0:00:01\r\n",
      "\u001b[K     |████████████████████████████████| 778kB 14.7MB/s \n",
      "\u001b[?25hRequirement already satisfied: tqdm>=4.27 in /usr/local/lib/python3.6/dist-packages (from transformers) (4.41.1)\n",
      "Collecting tokenizers==0.8.1.rc1\n",
      "\u001b[?25l  Downloading https://files.pythonhosted.org/packages/40/d0/30d5f8d221a0ed981a186c8eb986ce1c94e3a6e87f994eae9f4aa5250217/tokenizers-0.8.1rc1-cp36-cp36m-manylinux1_x86_64.whl (3.0MB)\n",
      "\u001b[K     |████████████████████████████████| 3.0MB 58.8MB/s \n",
      "\u001b[?25hCollecting sentencepiece!=0.1.92\n",
      "\u001b[?25l  Downloading https://files.pythonhosted.org/packages/d4/a4/d0a884c4300004a78cca907a6ff9a5e9fe4f090f5d95ab341c53d28cbc58/sentencepiece-0.1.91-cp36-cp36m-manylinux1_x86_64.whl (1.1MB)\n",
      "\u001b[K     |████████████████████████████████| 1.1MB 56.2MB/s \n",
      "\u001b[?25hRequirement already satisfied: regex!=2019.12.17 in /usr/local/lib/python3.6/dist-packages (from transformers) (2019.12.20)\n",
      "Requirement already satisfied: packaging in /usr/local/lib/python3.6/dist-packages (from transformers) (20.4)\n",
      "Requirement already satisfied: requests in /usr/local/lib/python3.6/dist-packages (from transformers) (2.23.0)\n",
      "Requirement already satisfied: dataclasses; python_version < \"3.7\" in /usr/local/lib/python3.6/dist-packages (from transformers) (0.7)\n",
      "Requirement already satisfied: numpy in /usr/local/lib/python3.6/dist-packages (from transformers) (1.18.5)\n",
      "Requirement already satisfied: filelock in /usr/local/lib/python3.6/dist-packages (from transformers) (3.0.12)\n",
      "Collecting sacremoses\n",
      "\u001b[?25l  Downloading https://files.pythonhosted.org/packages/7d/34/09d19aff26edcc8eb2a01bed8e98f13a1537005d31e95233fd48216eed10/sacremoses-0.0.43.tar.gz (883kB)\n",
      "\u001b[K     |████████████████████████████████| 890kB 48.9MB/s \n",
      "\u001b[?25hRequirement already satisfied: pyparsing>=2.0.2 in /usr/local/lib/python3.6/dist-packages (from packaging->transformers) (2.4.7)\n",
      "Requirement already satisfied: six in /usr/local/lib/python3.6/dist-packages (from packaging->transformers) (1.12.0)\n",
      "Requirement already satisfied: urllib3!=1.25.0,!=1.25.1,<1.26,>=1.21.1 in /usr/local/lib/python3.6/dist-packages (from requests->transformers) (1.24.3)\n",
      "Requirement already satisfied: idna<3,>=2.5 in /usr/local/lib/python3.6/dist-packages (from requests->transformers) (2.10)\n",
      "Requirement already satisfied: certifi>=2017.4.17 in /usr/local/lib/python3.6/dist-packages (from requests->transformers) (2020.6.20)\n",
      "Requirement already satisfied: chardet<4,>=3.0.2 in /usr/local/lib/python3.6/dist-packages (from requests->transformers) (3.0.4)\n",
      "Requirement already satisfied: click in /usr/local/lib/python3.6/dist-packages (from sacremoses->transformers) (7.1.2)\n",
      "Requirement already satisfied: joblib in /usr/local/lib/python3.6/dist-packages (from sacremoses->transformers) (0.16.0)\n",
      "Building wheels for collected packages: sacremoses\n",
      "  Building wheel for sacremoses (setup.py) ... \u001b[?25l\u001b[?25hdone\n",
      "  Created wheel for sacremoses: filename=sacremoses-0.0.43-cp36-none-any.whl size=893260 sha256=4a98cc4e797ff50d0b5016aa13e3716ffeffb9f67e45252ca19c440b5d502603\n",
      "  Stored in directory: /root/.cache/pip/wheels/29/3c/fd/7ce5c3f0666dab31a50123635e6fb5e19ceb42ce38d4e58f45\n",
      "Successfully built sacremoses\n",
      "Installing collected packages: tokenizers, sentencepiece, sacremoses, transformers\n",
      "Successfully installed sacremoses-0.0.43 sentencepiece-0.1.91 tokenizers-0.8.1rc1 transformers-3.0.2\n"
     ]
    }
   ],
   "source": [
    "#!pip install transformers"
   ]
  },
  {
   "cell_type": "code",
   "execution_count": 2,
   "metadata": {
    "colab": {},
    "colab_type": "code",
    "executionInfo": {
     "elapsed": 6222,
     "status": "ok",
     "timestamp": 1595182710408,
     "user": {
      "displayName": "Miguel Sotaquirá",
      "photoUrl": "https://lh3.googleusercontent.com/a-/AOh14Giuk6OGsE84qo69ZTgJj4B328D6GfU4etVY0q9AUg=s64",
      "userId": "08038952820764930757"
     },
     "user_tz": 300
    },
    "id": "Mc8cWZgOo-fw"
   },
   "outputs": [
    {
     "name": "stderr",
     "output_type": "stream",
     "text": [
      "c:\\Python311\\Lib\\site-packages\\tqdm\\auto.py:21: TqdmWarning: IProgress not found. Please update jupyter and ipywidgets. See https://ipywidgets.readthedocs.io/en/stable/user_install.html\n",
      "  from .autonotebook import tqdm as notebook_tqdm\n"
     ]
    }
   ],
   "source": [
    "from transformers import BertModel, BertTokenizer, AdamW, get_linear_schedule_with_warmup\n",
    "import torch\n",
    "import numpy as np\n",
    "from sklearn.model_selection import train_test_split\n",
    "from torch import nn, optim\n",
    "from torch.utils.data import Dataset, DataLoader\n",
    "import pandas as pd\n",
    "from textwrap import wrap"
   ]
  },
  {
   "cell_type": "code",
   "execution_count": 3,
   "metadata": {
    "colab": {
     "base_uri": "https://localhost:8080/",
     "height": 34
    },
    "colab_type": "code",
    "executionInfo": {
     "elapsed": 1865,
     "status": "ok",
     "timestamp": 1595182972536,
     "user": {
      "displayName": "Miguel Sotaquirá",
      "photoUrl": "https://lh3.googleusercontent.com/a-/AOh14Giuk6OGsE84qo69ZTgJj4B328D6GfU4etVY0q9AUg=s64",
      "userId": "08038952820764930757"
     },
     "user_tz": 300
    },
    "id": "2YBx1vdgTGV4",
    "outputId": "8a24bee9-15e7-4873-9603-5d1240773241"
   },
   "outputs": [
    {
     "name": "stdout",
     "output_type": "stream",
     "text": [
      "cpu\n"
     ]
    }
   ],
   "source": [
    "# Inicialización\n",
    "ruta = './Datasets limpios/'\n",
    "RANDOM_SEED = 42\n",
    "MAX_LEN = 200\n",
    "BATCH_SIZE = 16\n",
    "DATASET_1_PATH = ruta + 'dataset_coments_1.csv'\n",
    "NCLASSES = 2\n",
    "\n",
    "np.random.seed(RANDOM_SEED)\n",
    "torch.manual_seed(RANDOM_SEED)\n",
    "device = torch.device(\"cuda:0\" if torch.cuda.is_available() else \"cpu\")\n",
    "print(device)"
   ]
  },
  {
   "cell_type": "code",
   "execution_count": 4,
   "metadata": {
    "colab": {
     "base_uri": "https://localhost:8080/",
     "height": 122
    },
    "colab_type": "code",
    "executionInfo": {
     "elapsed": 34394,
     "status": "ok",
     "timestamp": 1595183077512,
     "user": {
      "displayName": "Miguel Sotaquirá",
      "photoUrl": "https://lh3.googleusercontent.com/a-/AOh14Giuk6OGsE84qo69ZTgJj4B328D6GfU4etVY0q9AUg=s64",
      "userId": "08038952820764930757"
     },
     "user_tz": 300
    },
    "id": "NPax5SRMUHbL",
    "outputId": "9324dbba-73b4-4ea5-8764-69285dae1069"
   },
   "outputs": [],
   "source": [
    "# Cargar dataset\n",
    "df = pd.read_csv(DATASET_1_PATH)\n",
    "df = df[:10000]"
   ]
  },
  {
   "cell_type": "code",
   "execution_count": 5,
   "metadata": {
    "colab": {
     "base_uri": "https://localhost:8080/",
     "height": 306
    },
    "colab_type": "code",
    "executionInfo": {
     "elapsed": 1423,
     "status": "ok",
     "timestamp": 1595183136771,
     "user": {
      "displayName": "Miguel Sotaquirá",
      "photoUrl": "https://lh3.googleusercontent.com/a-/AOh14Giuk6OGsE84qo69ZTgJj4B328D6GfU4etVY0q9AUg=s64",
      "userId": "08038952820764930757"
     },
     "user_tz": 300
    },
    "id": "SypONkqHUZGA",
    "outputId": "82e3d414-4943-48e2-824b-3b877f9253e1"
   },
   "outputs": [
    {
     "name": "stdout",
     "output_type": "stream",
     "text": [
      "                                        originalText sentiment\n",
      "0                             this dance is so weird  Negative\n",
      "1  team blue balls is gonna win this whole compet...  Positive\n",
      "2                                            so good  Positive\n",
      "3                                    wow really good  Positive\n",
      "4     i liked how you said that word xd\\nmiscurpager  Positive\n",
      "(10000, 2)\n",
      "wow i love it how you put passion into it am the same too lol d good\n",
      "job\n"
     ]
    }
   ],
   "source": [
    "print(df.head())\n",
    "print(df.shape)\n",
    "print(\"\\n\".join(wrap(df['originalText'][200])))"
   ]
  },
  {
   "cell_type": "code",
   "execution_count": 6,
   "metadata": {
    "colab": {
     "base_uri": "https://localhost:8080/",
     "height": 204
    },
    "colab_type": "code",
    "executionInfo": {
     "elapsed": 1492,
     "status": "ok",
     "timestamp": 1595183306570,
     "user": {
      "displayName": "Miguel Sotaquirá",
      "photoUrl": "https://lh3.googleusercontent.com/a-/AOh14Giuk6OGsE84qo69ZTgJj4B328D6GfU4etVY0q9AUg=s64",
      "userId": "08038952820764930757"
     },
     "user_tz": 300
    },
    "id": "UMCr2ZBvUvoX",
    "outputId": "f56691d3-28c7-49b6-9922-4bd800dc41dd"
   },
   "outputs": [
    {
     "data": {
      "text/html": [
       "<div>\n",
       "<style scoped>\n",
       "    .dataframe tbody tr th:only-of-type {\n",
       "        vertical-align: middle;\n",
       "    }\n",
       "\n",
       "    .dataframe tbody tr th {\n",
       "        vertical-align: top;\n",
       "    }\n",
       "\n",
       "    .dataframe thead th {\n",
       "        text-align: right;\n",
       "    }\n",
       "</style>\n",
       "<table border=\"1\" class=\"dataframe\">\n",
       "  <thead>\n",
       "    <tr style=\"text-align: right;\">\n",
       "      <th></th>\n",
       "      <th>originalText</th>\n",
       "      <th>label</th>\n",
       "    </tr>\n",
       "  </thead>\n",
       "  <tbody>\n",
       "    <tr>\n",
       "      <th>0</th>\n",
       "      <td>this dance is so weird</td>\n",
       "      <td>0</td>\n",
       "    </tr>\n",
       "    <tr>\n",
       "      <th>1</th>\n",
       "      <td>team blue balls is gonna win this whole compet...</td>\n",
       "      <td>1</td>\n",
       "    </tr>\n",
       "    <tr>\n",
       "      <th>2</th>\n",
       "      <td>so good</td>\n",
       "      <td>1</td>\n",
       "    </tr>\n",
       "    <tr>\n",
       "      <th>3</th>\n",
       "      <td>wow really good</td>\n",
       "      <td>1</td>\n",
       "    </tr>\n",
       "    <tr>\n",
       "      <th>4</th>\n",
       "      <td>i liked how you said that word xd\\nmiscurpager</td>\n",
       "      <td>1</td>\n",
       "    </tr>\n",
       "  </tbody>\n",
       "</table>\n",
       "</div>"
      ],
      "text/plain": [
       "                                        originalText  label\n",
       "0                             this dance is so weird      0\n",
       "1  team blue balls is gonna win this whole compet...      1\n",
       "2                                            so good      1\n",
       "3                                    wow really good      1\n",
       "4     i liked how you said that word xd\\nmiscurpager      1"
      ]
     },
     "execution_count": 6,
     "metadata": {},
     "output_type": "execute_result"
    }
   ],
   "source": [
    "# Reajustar dataset\n",
    "df['label'] = (df['sentiment']=='Positive').astype(int)\n",
    "df.drop('sentiment', axis=1, inplace=True)\n",
    "df.head()"
   ]
  },
  {
   "cell_type": "code",
   "execution_count": 7,
   "metadata": {
    "colab": {
     "base_uri": "https://localhost:8080/",
     "height": 66,
     "referenced_widgets": [
      "e3e30e0984d84fe293381c20dea0bb8a",
      "8aa9e224697d4d208ca495383d100ea9",
      "1c330ca1667943879b63b3f121145e0d",
      "875d8eaae29f41d0863919104b22abeb",
      "e0deb314b25e4fba83dcab638a85aad1",
      "fa3811c703cd4a0da0e6c7dfedf570dc",
      "aebf484cd1d84d958fb53e5be66b7b45",
      "fabe7b500ea74f0abf58b9801e851c44"
     ]
    },
    "colab_type": "code",
    "executionInfo": {
     "elapsed": 3909,
     "status": "ok",
     "timestamp": 1595183560075,
     "user": {
      "displayName": "Miguel Sotaquirá",
      "photoUrl": "https://lh3.googleusercontent.com/a-/AOh14Giuk6OGsE84qo69ZTgJj4B328D6GfU4etVY0q9AUg=s64",
      "userId": "08038952820764930757"
     },
     "user_tz": 300
    },
    "id": "yEsKKezJVZEW",
    "outputId": "0a69600c-5735-49da-a3b3-84119760b0d1"
   },
   "outputs": [],
   "source": [
    "# TOKENIZACIÓN\n",
    "PRE_TRAINED_MODEL_NAME = 'bert-base-cased'\n",
    "tokenizer = BertTokenizer.from_pretrained(PRE_TRAINED_MODEL_NAME)"
   ]
  },
  {
   "cell_type": "code",
   "execution_count": 8,
   "metadata": {
    "colab": {
     "base_uri": "https://localhost:8080/",
     "height": 68
    },
    "colab_type": "code",
    "executionInfo": {
     "elapsed": 1414,
     "status": "ok",
     "timestamp": 1595183680949,
     "user": {
      "displayName": "Miguel Sotaquirá",
      "photoUrl": "https://lh3.googleusercontent.com/a-/AOh14Giuk6OGsE84qo69ZTgJj4B328D6GfU4etVY0q9AUg=s64",
      "userId": "08038952820764930757"
     },
     "user_tz": 300
    },
    "id": "LkNsk0GGWWW6",
    "outputId": "44a85379-9272-48e8-f17b-3698ff1df01a"
   },
   "outputs": [
    {
     "name": "stdout",
     "output_type": "stream",
     "text": [
      "Frase:  I really loved that movie!\n",
      "Tokens:  ['I', 'really', 'loved', 'that', 'movie', '!']\n",
      "Tokens numéricos:  [146, 1541, 3097, 1115, 2523, 106]\n"
     ]
    }
   ],
   "source": [
    "# Ejemplo tokenización\n",
    "sample_txt = 'I really loved that movie!'\n",
    "tokens = tokenizer.tokenize(sample_txt)\n",
    "token_ids = tokenizer.convert_tokens_to_ids(tokens)\n",
    "print('Frase: ', sample_txt)\n",
    "print('Tokens: ', tokens)\n",
    "print('Tokens numéricos: ', token_ids)"
   ]
  },
  {
   "cell_type": "code",
   "execution_count": 9,
   "metadata": {
    "colab": {},
    "colab_type": "code",
    "executionInfo": {
     "elapsed": 1019,
     "status": "ok",
     "timestamp": 1595183976659,
     "user": {
      "displayName": "Miguel Sotaquirá",
      "photoUrl": "https://lh3.googleusercontent.com/a-/AOh14Giuk6OGsE84qo69ZTgJj4B328D6GfU4etVY0q9AUg=s64",
      "userId": "08038952820764930757"
     },
     "user_tz": 300
    },
    "id": "XDqgDsUqW0fO"
   },
   "outputs": [],
   "source": [
    "# Codificación para introducir a BERT\n",
    "encoding = tokenizer.encode_plus(\n",
    "    sample_txt,\n",
    "    max_length = 10,\n",
    "    truncation = True,\n",
    "    add_special_tokens = True,\n",
    "    return_token_type_ids = False,\n",
    "    pad_to_max_length = True,\n",
    "    return_attention_mask = True,\n",
    "    return_tensors = 'pt'\n",
    ")"
   ]
  },
  {
   "cell_type": "code",
   "execution_count": 10,
   "metadata": {
    "colab": {
     "base_uri": "https://localhost:8080/",
     "height": 34
    },
    "colab_type": "code",
    "executionInfo": {
     "elapsed": 972,
     "status": "ok",
     "timestamp": 1595183984043,
     "user": {
      "displayName": "Miguel Sotaquirá",
      "photoUrl": "https://lh3.googleusercontent.com/a-/AOh14Giuk6OGsE84qo69ZTgJj4B328D6GfU4etVY0q9AUg=s64",
      "userId": "08038952820764930757"
     },
     "user_tz": 300
    },
    "id": "QfE50cS2X8uu",
    "outputId": "e72a5df7-3fbb-4c3b-af92-c7ed91ea25e5"
   },
   "outputs": [
    {
     "data": {
      "text/plain": [
       "dict_keys(['input_ids', 'attention_mask'])"
      ]
     },
     "execution_count": 10,
     "metadata": {
      "tags": []
     },
     "output_type": "execute_result"
    }
   ],
   "source": [
    "encoding.keys()"
   ]
  },
  {
   "cell_type": "code",
   "execution_count": 11,
   "metadata": {
    "colab": {
     "base_uri": "https://localhost:8080/",
     "height": 68
    },
    "colab_type": "code",
    "executionInfo": {
     "elapsed": 1642,
     "status": "ok",
     "timestamp": 1595184058163,
     "user": {
      "displayName": "Miguel Sotaquirá",
      "photoUrl": "https://lh3.googleusercontent.com/a-/AOh14Giuk6OGsE84qo69ZTgJj4B328D6GfU4etVY0q9AUg=s64",
      "userId": "08038952820764930757"
     },
     "user_tz": 300
    },
    "id": "er5DlrQ9X-mG",
    "outputId": "8d2f1141-71e6-4812-dbff-5853e47b9560"
   },
   "outputs": [
    {
     "name": "stdout",
     "output_type": "stream",
     "text": [
      "['[CLS]', 'I', 'really', 'loved', 'that', 'movie', '!', '[SEP]', '[PAD]', '[PAD]']\n",
      "tensor([ 101,  146, 1541, 3097, 1115, 2523,  106,  102,    0,    0])\n",
      "tensor([1, 1, 1, 1, 1, 1, 1, 1, 0, 0])\n"
     ]
    }
   ],
   "source": [
    "print(tokenizer.convert_ids_to_tokens(encoding['input_ids'][0]))\n",
    "print(encoding['input_ids'][0])\n",
    "print(encoding['attention_mask'][0])"
   ]
  },
  {
   "cell_type": "code",
   "execution_count": 8,
   "metadata": {
    "colab": {},
    "colab_type": "code",
    "executionInfo": {
     "elapsed": 1328,
     "status": "ok",
     "timestamp": 1595186242198,
     "user": {
      "displayName": "Miguel Sotaquirá",
      "photoUrl": "https://lh3.googleusercontent.com/a-/AOh14Giuk6OGsE84qo69ZTgJj4B328D6GfU4etVY0q9AUg=s64",
      "userId": "08038952820764930757"
     },
     "user_tz": 300
    },
    "id": "pqv-DZtzYQhm"
   },
   "outputs": [],
   "source": [
    "# CREACIÓN DATASET\n",
    "\n",
    "class IMDBDataset(Dataset):\n",
    "\n",
    "  def __init__(self,originalText,labels,tokenizer,max_len):\n",
    "    self.originalText = originalText\n",
    "    self.labels = labels\n",
    "    self.tokenizer = tokenizer\n",
    "    self.max_len = max_len\n",
    "\n",
    "  def __len__(self):\n",
    "      return len(self.originalText)\n",
    "    \n",
    "  def __getitem__(self, item):\n",
    "    originalText = str(self.originalText[item])\n",
    "    label = self.labels[item]\n",
    "    encoding = tokenizer.encode_plus(\n",
    "        originalText,\n",
    "        max_length = self.max_len,\n",
    "        truncation = True,\n",
    "        add_special_tokens = True,\n",
    "        return_token_type_ids = False,\n",
    "        pad_to_max_length = True,\n",
    "        return_attention_mask = True,\n",
    "        return_tensors = 'pt'\n",
    "        )\n",
    "    \n",
    "\n",
    "    return {\n",
    "          'originalText': originalText,\n",
    "          'input_ids': encoding['input_ids'].flatten(),\n",
    "          'attention_mask': encoding['attention_mask'].flatten(),\n",
    "          'label': torch.tensor(label, dtype=torch.long)\n",
    "      } \n",
    "\n"
   ]
  },
  {
   "cell_type": "code",
   "execution_count": 9,
   "metadata": {
    "colab": {},
    "colab_type": "code",
    "executionInfo": {
     "elapsed": 1540,
     "status": "ok",
     "timestamp": 1595186245811,
     "user": {
      "displayName": "Miguel Sotaquirá",
      "photoUrl": "https://lh3.googleusercontent.com/a-/AOh14Giuk6OGsE84qo69ZTgJj4B328D6GfU4etVY0q9AUg=s64",
      "userId": "08038952820764930757"
     },
     "user_tz": 300
    },
    "id": "NaYe0FsoaNAv"
   },
   "outputs": [],
   "source": [
    "# Data loader:\n",
    "\n",
    "def data_loader(df, tokenizer, max_len, batch_size):\n",
    "  dataset = IMDBDataset(\n",
    "      originalText = df.originalText.to_numpy(),\n",
    "      labels = df.label.to_numpy(),\n",
    "      tokenizer = tokenizer,\n",
    "      max_len = MAX_LEN\n",
    "  )\n",
    "\n",
    "  return DataLoader(dataset, batch_size = BATCH_SIZE, num_workers = 4)"
   ]
  },
  {
   "cell_type": "code",
   "execution_count": 10,
   "metadata": {
    "colab": {},
    "colab_type": "code",
    "executionInfo": {
     "elapsed": 1348,
     "status": "ok",
     "timestamp": 1595186248969,
     "user": {
      "displayName": "Miguel Sotaquirá",
      "photoUrl": "https://lh3.googleusercontent.com/a-/AOh14Giuk6OGsE84qo69ZTgJj4B328D6GfU4etVY0q9AUg=s64",
      "userId": "08038952820764930757"
     },
     "user_tz": 300
    },
    "id": "m9rNI4Tsa5MZ"
   },
   "outputs": [],
   "source": [
    "df_train, df_test = train_test_split(df, test_size = 0.2, random_state=RANDOM_SEED)\n",
    "\n",
    "train_data_loader = data_loader(df_train, tokenizer, MAX_LEN, BATCH_SIZE)\n",
    "test_data_loader = data_loader(df_test, tokenizer, MAX_LEN, BATCH_SIZE)"
   ]
  },
  {
   "cell_type": "code",
   "execution_count": 11,
   "metadata": {
    "colab": {},
    "colab_type": "code",
    "executionInfo": {
     "elapsed": 795,
     "status": "ok",
     "timestamp": 1595186916420,
     "user": {
      "displayName": "Miguel Sotaquirá",
      "photoUrl": "https://lh3.googleusercontent.com/a-/AOh14Giuk6OGsE84qo69ZTgJj4B328D6GfU4etVY0q9AUg=s64",
      "userId": "08038952820764930757"
     },
     "user_tz": 300
    },
    "id": "VOnca-sVbhPX"
   },
   "outputs": [],
   "source": [
    "# EL MODELO!\n",
    "\n",
    "class BERTSentimentModule(nn.Module):\n",
    "\n",
    "  def __init__(self, n_classes):\n",
    "    super(BERTSentimentModule, self).__init__()\n",
    "    self.bert = BertModel.from_pretrained(PRE_TRAINED_MODEL_NAME)\n",
    "    self.drop = nn.Dropout(p=0.3)\n",
    "    self.linear = nn.Linear(self.bert.config.hidden_size, n_classes)\n",
    "\n",
    "  def forward(self, input_ids, attention_mask):\n",
    "    _, cls_output = self.bert(\n",
    "        input_ids = input_ids,\n",
    "        attention_mask = attention_mask\n",
    "    )\n",
    "    drop_output = self.drop(cls_output)\n",
    "    output = self.linear(drop_output)\n",
    "    return output"
   ]
  },
  {
   "cell_type": "code",
   "execution_count": 12,
   "metadata": {
    "colab": {},
    "colab_type": "code",
    "executionInfo": {
     "elapsed": 4986,
     "status": "ok",
     "timestamp": 1595186924700,
     "user": {
      "displayName": "Miguel Sotaquirá",
      "photoUrl": "https://lh3.googleusercontent.com/a-/AOh14Giuk6OGsE84qo69ZTgJj4B328D6GfU4etVY0q9AUg=s64",
      "userId": "08038952820764930757"
     },
     "user_tz": 300
    },
    "id": "CanuNncKdXaF"
   },
   "outputs": [],
   "source": [
    "model = BERTSentimentModule(NCLASSES)\n",
    "model = model.to(device)"
   ]
  },
  {
   "cell_type": "code",
   "execution_count": 13,
   "metadata": {
    "colab": {},
    "colab_type": "code",
    "executionInfo": {
     "elapsed": 1427,
     "status": "ok",
     "timestamp": 1595186928731,
     "user": {
      "displayName": "Miguel Sotaquirá",
      "photoUrl": "https://lh3.googleusercontent.com/a-/AOh14Giuk6OGsE84qo69ZTgJj4B328D6GfU4etVY0q9AUg=s64",
      "userId": "08038952820764930757"
     },
     "user_tz": 300
    },
    "id": "Mansb6pfdn_H"
   },
   "outputs": [
    {
     "name": "stderr",
     "output_type": "stream",
     "text": [
      "C:\\Users\\Pc\\AppData\\Roaming\\Python\\Python311\\site-packages\\transformers\\optimization.py:429: FutureWarning: This implementation of AdamW is deprecated and will be removed in a future version. Use the PyTorch implementation torch.optim.AdamW instead, or set `no_deprecation_warning=True` to disable this warning\n",
      "  warnings.warn(\n"
     ]
    }
   ],
   "source": [
    "# ENTRENAMIENTO\n",
    "EPOCHS = 5\n",
    "optimizer = AdamW(model.parameters(), lr=2e-5, correct_bias=False)\n",
    "total_steps = len(train_data_loader) * EPOCHS\n",
    "scheduler = get_linear_schedule_with_warmup(\n",
    "    optimizer,\n",
    "    num_warmup_steps = 0,\n",
    "    num_training_steps = total_steps\n",
    ")\n",
    "loss_fn = nn.CrossEntropyLoss().to(device)"
   ]
  },
  {
   "cell_type": "code",
   "execution_count": 14,
   "metadata": {
    "colab": {},
    "colab_type": "code",
    "executionInfo": {
     "elapsed": 1902,
     "status": "ok",
     "timestamp": 1595187521031,
     "user": {
      "displayName": "Miguel Sotaquirá",
      "photoUrl": "https://lh3.googleusercontent.com/a-/AOh14Giuk6OGsE84qo69ZTgJj4B328D6GfU4etVY0q9AUg=s64",
      "userId": "08038952820764930757"
     },
     "user_tz": 300
    },
    "id": "ihoNOG0Zeuhz"
   },
   "outputs": [],
   "source": [
    "# Iteración entrenamiento\n",
    "def train_model(model, data_loader, loss_fn, optimizer, device, scheduler, n_examples):\n",
    "  model = model.train()\n",
    "  losses = []\n",
    "  correct_predictions = 0\n",
    "  for batch in data_loader:\n",
    "    input_ids = batch['input_ids'].to(device)\n",
    "    attention_mask = batch['attention_mask'].to(device)\n",
    "    labels = batch['label'].to(device)\n",
    "    outputs = model(input_ids = input_ids, attention_mask = attention_mask)\n",
    "    _, preds = torch.max(outputs, dim=1)\n",
    "    loss = loss_fn(outputs, labels)\n",
    "    correct_predictions += torch.sum(preds == labels)\n",
    "    losses.append(loss.item())\n",
    "    loss.backward()\n",
    "    nn.utils.clip_grad_norm_(model.parameters(), max_norm=1.0)\n",
    "    optimizer.step()\n",
    "    scheduler.step()\n",
    "    optimizer.zero_grad()\n",
    "  return correct_predictions.double()/n_examples, np.mean(losses)\n",
    "\n",
    "def eval_model(model, data_loader, loss_fn, device, n_examples):\n",
    "  model = model.eval()\n",
    "  losses = []\n",
    "  correct_predictions = 0\n",
    "  with torch.no_grad():\n",
    "    for batch in data_loader:\n",
    "      input_ids = batch['input_ids'].to(device)\n",
    "      attention_mask = batch['attention_mask'].to(device)\n",
    "      labels = batch['label'].to(device)\n",
    "      outputs = model(input_ids = input_ids, attention_mask = attention_mask)\n",
    "      _, preds = torch.max(outputs, dim=1)\n",
    "      loss = loss_fn(outputs, labels)\n",
    "      correct_predictions += torch.sum(preds == labels)\n",
    "      losses.append(loss.item())\n",
    "  return correct_predictions.double()/n_examples, np.mean(losses)"
   ]
  },
  {
   "cell_type": "code",
   "execution_count": 15,
   "metadata": {
    "colab": {
     "base_uri": "https://localhost:8080/",
     "height": 442
    },
    "colab_type": "code",
    "executionInfo": {
     "elapsed": 1725227,
     "status": "ok",
     "timestamp": 1595189287764,
     "user": {
      "displayName": "Miguel Sotaquirá",
      "photoUrl": "https://lh3.googleusercontent.com/a-/AOh14Giuk6OGsE84qo69ZTgJj4B328D6GfU4etVY0q9AUg=s64",
      "userId": "08038952820764930757"
     },
     "user_tz": 300
    },
    "id": "y0aJRM-ZiXtp",
    "outputId": "4a352fee-504b-4575-8171-97fa62fc4669"
   },
   "outputs": [
    {
     "name": "stdout",
     "output_type": "stream",
     "text": [
      "Epoch 1 de 5\n",
      "------------------\n"
     ]
    }
   ],
   "source": [
    "# Entrenamiento!!!\n",
    "\n",
    "for epoch in range(EPOCHS):\n",
    "  print('Epoch {} de {}'.format(epoch+1, EPOCHS))\n",
    "  print('------------------')\n",
    "  train_acc, train_loss = train_model(\n",
    "      model, train_data_loader, loss_fn, optimizer, device, scheduler, len(df_train)\n",
    "  )\n",
    "  test_acc, test_loss = eval_model(\n",
    "      model, test_data_loader, loss_fn, device, len(df_test)\n",
    "  )\n",
    "  print('Entrenamiento: Loss: {}, accuracy: {}'.format(train_loss, train_acc))\n",
    "  print('Validación: Loss: {}, accuracy: {}'.format(test_loss, test_acc))\n",
    "  print('')"
   ]
  },
  {
   "cell_type": "code",
   "execution_count": null,
   "metadata": {},
   "outputs": [],
   "source": [
    "# Guardar el modelo\n",
    "model_path = \"./modeloBertEntrenado.pth\"\n",
    "torch.save(model.state_dict(), model_path)"
   ]
  },
  {
   "cell_type": "code",
   "execution_count": 50,
   "metadata": {
    "colab": {},
    "colab_type": "code",
    "executionInfo": {
     "elapsed": 1878,
     "status": "ok",
     "timestamp": 1595189814769,
     "user": {
      "displayName": "Miguel Sotaquirá",
      "photoUrl": "https://lh3.googleusercontent.com/a-/AOh14Giuk6OGsE84qo69ZTgJj4B328D6GfU4etVY0q9AUg=s64",
      "userId": "08038952820764930757"
     },
     "user_tz": 300
    },
    "id": "QTG7YKnVjDA-"
   },
   "outputs": [],
   "source": [
    "def classifySentiment(review_text):\n",
    "  encoding_review = tokenizer.encode_plus(\n",
    "      review_text,\n",
    "      max_length = MAX_LEN,\n",
    "      truncation = True,\n",
    "      add_special_tokens = True,\n",
    "      return_token_type_ids = False,\n",
    "      pad_to_max_length = True,\n",
    "      return_attention_mask = True,\n",
    "      return_tensors = 'pt'\n",
    "      )\n",
    "  \n",
    "  input_ids = encoding_review['input_ids'].to(device)\n",
    "  attention_mask = encoding_review['attention_mask'].to(device)\n",
    "  output = model(input_ids, attention_mask)\n",
    "  _, prediction = torch.max(output, dim=1)\n",
    "  print(\"\\n\".join(wrap(review_text)))\n",
    "  if prediction:\n",
    "    print('Sentimiento predicho: * * * * *')\n",
    "  else:\n",
    "    print('Sentimiento predicho: *')\n",
    "\n",
    "\n",
    "  "
   ]
  },
  {
   "cell_type": "code",
   "execution_count": 58,
   "metadata": {
    "colab": {
     "base_uri": "https://localhost:8080/",
     "height": 68
    },
    "colab_type": "code",
    "executionInfo": {
     "elapsed": 1698,
     "status": "ok",
     "timestamp": 1595190071968,
     "user": {
      "displayName": "Miguel Sotaquirá",
      "photoUrl": "https://lh3.googleusercontent.com/a-/AOh14Giuk6OGsE84qo69ZTgJj4B328D6GfU4etVY0q9AUg=s64",
      "userId": "08038952820764930757"
     },
     "user_tz": 300
    },
    "id": "oe0im1_alf4K",
    "outputId": "53a1e148-5007-4de5-ddcc-b5ae837710c2"
   },
   "outputs": [
    {
     "name": "stdout",
     "output_type": "stream",
     "text": [
      "Avengers: Infinity War at least had the good taste to abstain from\n",
      "Jeremy Renner. No such luck in Endgame.\n",
      "Sentiemiento predicho: *\n"
     ]
    }
   ],
   "source": [
    "review_text = \"Avengers: Infinity War at least had the good taste to abstain from Jeremy Renner. No such luck in Endgame.\"\n",
    "\n",
    "classifySentiment(review_text)"
   ]
  },
  {
   "cell_type": "code",
   "execution_count": null,
   "metadata": {
    "colab": {},
    "colab_type": "code",
    "id": "rNlHECVBuDXJ"
   },
   "outputs": [],
   "source": []
  }
 ],
 "metadata": {
  "accelerator": "GPU",
  "colab": {
   "authorship_tag": "ABX9TyOfmuLJQuUxzQsFZjQXH/bz",
   "collapsed_sections": [],
   "name": "BERT_analisis_sentimientos.ipynb",
   "provenance": []
  },
  "kernelspec": {
   "display_name": "Python 3 (ipykernel)",
   "language": "python",
   "name": "python3"
  },
  "language_info": {
   "codemirror_mode": {
    "name": "ipython",
    "version": 3
   },
   "file_extension": ".py",
   "mimetype": "text/x-python",
   "name": "python",
   "nbconvert_exporter": "python",
   "pygments_lexer": "ipython3",
   "version": "3.11.4"
  },
  "widgets": {
   "application/vnd.jupyter.widget-state+json": {
    "1c330ca1667943879b63b3f121145e0d": {
     "model_module": "@jupyter-widgets/controls",
     "model_name": "FloatProgressModel",
     "state": {
      "_dom_classes": [],
      "_model_module": "@jupyter-widgets/controls",
      "_model_module_version": "1.5.0",
      "_model_name": "FloatProgressModel",
      "_view_count": null,
      "_view_module": "@jupyter-widgets/controls",
      "_view_module_version": "1.5.0",
      "_view_name": "ProgressView",
      "bar_style": "success",
      "description": "Downloading: 100%",
      "description_tooltip": null,
      "layout": "IPY_MODEL_fa3811c703cd4a0da0e6c7dfedf570dc",
      "max": 213450,
      "min": 0,
      "orientation": "horizontal",
      "style": "IPY_MODEL_e0deb314b25e4fba83dcab638a85aad1",
      "value": 213450
     }
    },
    "875d8eaae29f41d0863919104b22abeb": {
     "model_module": "@jupyter-widgets/controls",
     "model_name": "HTMLModel",
     "state": {
      "_dom_classes": [],
      "_model_module": "@jupyter-widgets/controls",
      "_model_module_version": "1.5.0",
      "_model_name": "HTMLModel",
      "_view_count": null,
      "_view_module": "@jupyter-widgets/controls",
      "_view_module_version": "1.5.0",
      "_view_name": "HTMLView",
      "description": "",
      "description_tooltip": null,
      "layout": "IPY_MODEL_fabe7b500ea74f0abf58b9801e851c44",
      "placeholder": "​",
      "style": "IPY_MODEL_aebf484cd1d84d958fb53e5be66b7b45",
      "value": " 213k/213k [00:00&lt;00:00, 240kB/s]"
     }
    },
    "8aa9e224697d4d208ca495383d100ea9": {
     "model_module": "@jupyter-widgets/base",
     "model_name": "LayoutModel",
     "state": {
      "_model_module": "@jupyter-widgets/base",
      "_model_module_version": "1.2.0",
      "_model_name": "LayoutModel",
      "_view_count": null,
      "_view_module": "@jupyter-widgets/base",
      "_view_module_version": "1.2.0",
      "_view_name": "LayoutView",
      "align_content": null,
      "align_items": null,
      "align_self": null,
      "border": null,
      "bottom": null,
      "display": null,
      "flex": null,
      "flex_flow": null,
      "grid_area": null,
      "grid_auto_columns": null,
      "grid_auto_flow": null,
      "grid_auto_rows": null,
      "grid_column": null,
      "grid_gap": null,
      "grid_row": null,
      "grid_template_areas": null,
      "grid_template_columns": null,
      "grid_template_rows": null,
      "height": null,
      "justify_content": null,
      "justify_items": null,
      "left": null,
      "margin": null,
      "max_height": null,
      "max_width": null,
      "min_height": null,
      "min_width": null,
      "object_fit": null,
      "object_position": null,
      "order": null,
      "overflow": null,
      "overflow_x": null,
      "overflow_y": null,
      "padding": null,
      "right": null,
      "top": null,
      "visibility": null,
      "width": null
     }
    },
    "aebf484cd1d84d958fb53e5be66b7b45": {
     "model_module": "@jupyter-widgets/controls",
     "model_name": "DescriptionStyleModel",
     "state": {
      "_model_module": "@jupyter-widgets/controls",
      "_model_module_version": "1.5.0",
      "_model_name": "DescriptionStyleModel",
      "_view_count": null,
      "_view_module": "@jupyter-widgets/base",
      "_view_module_version": "1.2.0",
      "_view_name": "StyleView",
      "description_width": ""
     }
    },
    "e0deb314b25e4fba83dcab638a85aad1": {
     "model_module": "@jupyter-widgets/controls",
     "model_name": "ProgressStyleModel",
     "state": {
      "_model_module": "@jupyter-widgets/controls",
      "_model_module_version": "1.5.0",
      "_model_name": "ProgressStyleModel",
      "_view_count": null,
      "_view_module": "@jupyter-widgets/base",
      "_view_module_version": "1.2.0",
      "_view_name": "StyleView",
      "bar_color": null,
      "description_width": "initial"
     }
    },
    "e3e30e0984d84fe293381c20dea0bb8a": {
     "model_module": "@jupyter-widgets/controls",
     "model_name": "HBoxModel",
     "state": {
      "_dom_classes": [],
      "_model_module": "@jupyter-widgets/controls",
      "_model_module_version": "1.5.0",
      "_model_name": "HBoxModel",
      "_view_count": null,
      "_view_module": "@jupyter-widgets/controls",
      "_view_module_version": "1.5.0",
      "_view_name": "HBoxView",
      "box_style": "",
      "children": [
       "IPY_MODEL_1c330ca1667943879b63b3f121145e0d",
       "IPY_MODEL_875d8eaae29f41d0863919104b22abeb"
      ],
      "layout": "IPY_MODEL_8aa9e224697d4d208ca495383d100ea9"
     }
    },
    "fa3811c703cd4a0da0e6c7dfedf570dc": {
     "model_module": "@jupyter-widgets/base",
     "model_name": "LayoutModel",
     "state": {
      "_model_module": "@jupyter-widgets/base",
      "_model_module_version": "1.2.0",
      "_model_name": "LayoutModel",
      "_view_count": null,
      "_view_module": "@jupyter-widgets/base",
      "_view_module_version": "1.2.0",
      "_view_name": "LayoutView",
      "align_content": null,
      "align_items": null,
      "align_self": null,
      "border": null,
      "bottom": null,
      "display": null,
      "flex": null,
      "flex_flow": null,
      "grid_area": null,
      "grid_auto_columns": null,
      "grid_auto_flow": null,
      "grid_auto_rows": null,
      "grid_column": null,
      "grid_gap": null,
      "grid_row": null,
      "grid_template_areas": null,
      "grid_template_columns": null,
      "grid_template_rows": null,
      "height": null,
      "justify_content": null,
      "justify_items": null,
      "left": null,
      "margin": null,
      "max_height": null,
      "max_width": null,
      "min_height": null,
      "min_width": null,
      "object_fit": null,
      "object_position": null,
      "order": null,
      "overflow": null,
      "overflow_x": null,
      "overflow_y": null,
      "padding": null,
      "right": null,
      "top": null,
      "visibility": null,
      "width": null
     }
    },
    "fabe7b500ea74f0abf58b9801e851c44": {
     "model_module": "@jupyter-widgets/base",
     "model_name": "LayoutModel",
     "state": {
      "_model_module": "@jupyter-widgets/base",
      "_model_module_version": "1.2.0",
      "_model_name": "LayoutModel",
      "_view_count": null,
      "_view_module": "@jupyter-widgets/base",
      "_view_module_version": "1.2.0",
      "_view_name": "LayoutView",
      "align_content": null,
      "align_items": null,
      "align_self": null,
      "border": null,
      "bottom": null,
      "display": null,
      "flex": null,
      "flex_flow": null,
      "grid_area": null,
      "grid_auto_columns": null,
      "grid_auto_flow": null,
      "grid_auto_rows": null,
      "grid_column": null,
      "grid_gap": null,
      "grid_row": null,
      "grid_template_areas": null,
      "grid_template_columns": null,
      "grid_template_rows": null,
      "height": null,
      "justify_content": null,
      "justify_items": null,
      "left": null,
      "margin": null,
      "max_height": null,
      "max_width": null,
      "min_height": null,
      "min_width": null,
      "object_fit": null,
      "object_position": null,
      "order": null,
      "overflow": null,
      "overflow_x": null,
      "overflow_y": null,
      "padding": null,
      "right": null,
      "top": null,
      "visibility": null,
      "width": null
     }
    }
   }
  }
 },
 "nbformat": 4,
 "nbformat_minor": 1
}
